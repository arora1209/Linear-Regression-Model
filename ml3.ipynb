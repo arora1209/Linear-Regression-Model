{
 "cells": [
  {
   "cell_type": "code",
   "execution_count": 2,
   "metadata": {},
   "outputs": [],
   "source": [
    "import pandas as pd\n",
    "import matplotlib.pyplot as plt\n",
    "import numpy as np\n",
    "%matplotlib inline"
   ]
  },
  {
   "cell_type": "code",
   "execution_count": 3,
   "metadata": {},
   "outputs": [],
   "source": [
    "import pylab as pl"
   ]
  },
  {
   "cell_type": "code",
   "execution_count": 4,
   "metadata": {},
   "outputs": [],
   "source": [
    "p=pd.read_csv('Records.csv', encoding='unicode escape')"
   ]
  },
  {
   "cell_type": "code",
   "execution_count": 5,
   "metadata": {},
   "outputs": [
    {
     "data": {
      "text/html": [
       "<div>\n",
       "<style scoped>\n",
       "    .dataframe tbody tr th:only-of-type {\n",
       "        vertical-align: middle;\n",
       "    }\n",
       "\n",
       "    .dataframe tbody tr th {\n",
       "        vertical-align: top;\n",
       "    }\n",
       "\n",
       "    .dataframe thead th {\n",
       "        text-align: right;\n",
       "    }\n",
       "</style>\n",
       "<table border=\"1\" class=\"dataframe\">\n",
       "  <thead>\n",
       "    <tr style=\"text-align: right;\">\n",
       "      <th></th>\n",
       "      <th>UnitsSold</th>\n",
       "      <th>UnitCost</th>\n",
       "      <th>UnitPrice</th>\n",
       "      <th>TotalProfit</th>\n",
       "    </tr>\n",
       "  </thead>\n",
       "  <tbody>\n",
       "    <tr>\n",
       "      <th>0</th>\n",
       "      <td>9925</td>\n",
       "      <td>159.42</td>\n",
       "      <td>255.28</td>\n",
       "      <td>951410.50</td>\n",
       "    </tr>\n",
       "    <tr>\n",
       "      <th>1</th>\n",
       "      <td>2804</td>\n",
       "      <td>117.11</td>\n",
       "      <td>205.70</td>\n",
       "      <td>248406.36</td>\n",
       "    </tr>\n",
       "    <tr>\n",
       "      <th>2</th>\n",
       "      <td>1779</td>\n",
       "      <td>524.96</td>\n",
       "      <td>651.21</td>\n",
       "      <td>224598.75</td>\n",
       "    </tr>\n",
       "    <tr>\n",
       "      <th>3</th>\n",
       "      <td>8102</td>\n",
       "      <td>6.92</td>\n",
       "      <td>9.33</td>\n",
       "      <td>19525.82</td>\n",
       "    </tr>\n",
       "    <tr>\n",
       "      <th>4</th>\n",
       "      <td>5062</td>\n",
       "      <td>524.96</td>\n",
       "      <td>651.21</td>\n",
       "      <td>639077.50</td>\n",
       "    </tr>\n",
       "    <tr>\n",
       "      <th>5</th>\n",
       "      <td>2974</td>\n",
       "      <td>159.42</td>\n",
       "      <td>255.28</td>\n",
       "      <td>285087.64</td>\n",
       "    </tr>\n",
       "    <tr>\n",
       "      <th>6</th>\n",
       "      <td>4187</td>\n",
       "      <td>502.54</td>\n",
       "      <td>668.27</td>\n",
       "      <td>693911.51</td>\n",
       "    </tr>\n",
       "    <tr>\n",
       "      <th>7</th>\n",
       "      <td>8082</td>\n",
       "      <td>90.93</td>\n",
       "      <td>154.06</td>\n",
       "      <td>510216.66</td>\n",
       "    </tr>\n",
       "    <tr>\n",
       "      <th>8</th>\n",
       "      <td>6070</td>\n",
       "      <td>56.67</td>\n",
       "      <td>81.73</td>\n",
       "      <td>152114.20</td>\n",
       "    </tr>\n",
       "  </tbody>\n",
       "</table>\n",
       "</div>"
      ],
      "text/plain": [
       "   UnitsSold  UnitCost  UnitPrice  TotalProfit\n",
       "0       9925    159.42     255.28    951410.50\n",
       "1       2804    117.11     205.70    248406.36\n",
       "2       1779    524.96     651.21    224598.75\n",
       "3       8102      6.92       9.33     19525.82\n",
       "4       5062    524.96     651.21    639077.50\n",
       "5       2974    159.42     255.28    285087.64\n",
       "6       4187    502.54     668.27    693911.51\n",
       "7       8082     90.93     154.06    510216.66\n",
       "8       6070     56.67      81.73    152114.20"
      ]
     },
     "execution_count": 5,
     "metadata": {},
     "output_type": "execute_result"
    }
   ],
   "source": [
    "pq=p[['UnitsSold','UnitCost','UnitPrice','TotalProfit']]\n",
    "pq.head(9)"
   ]
  },
  {
   "cell_type": "code",
   "execution_count": 7,
   "metadata": {},
   "outputs": [
    {
     "data": {
      "image/png": "[encoded data removed]",
      "text/plain": [
       "<Figure size 432x288 with 1 Axes>"
      ]
     },
     "metadata": {
      "needs_background": "light"
     },
     "output_type": "display_data"
    }
   ],
   "source": [
    "plt.scatter(pq.UnitsSold,pq.TotalProfit)\n",
    "plt.xlabel(\"UnitsSold\")\n",
    "plt.ylabel(\"TotalProfit\")\n",
    "plt.show()"
   ]
  },
  {
   "cell_type": "code",
   "execution_count": 9,
   "metadata": {},
   "outputs": [],
   "source": [
    "nd=np.random.rand(len(pq))<0.8\n",
    "train = pq[nd]\n",
    "test=pq[~nd]"
   ]
  },
  {
   "cell_type": "code",
   "execution_count": 12,
   "metadata": {},
   "outputs": [
    {
     "data": {
      "text/plain": [
       "array([[1.0000000e+00, 9.9250000e+03, 9.8505625e+07],\n",
       "       [1.0000000e+00, 2.8040000e+03, 7.8624160e+06],\n",
       "       [1.0000000e+00, 1.7790000e+03, 3.1648410e+06],\n",
       "       [1.0000000e+00, 8.1020000e+03, 6.5642404e+07],\n",
       "       [1.0000000e+00, 5.0620000e+03, 2.5623844e+07],\n",
       "       [1.0000000e+00, 4.1870000e+03, 1.7530969e+07],\n",
       "       [1.0000000e+00, 8.0820000e+03, 6.5318724e+07],\n",
       "       [1.0000000e+00, 6.0700000e+03, 3.6844900e+07],\n",
       "       [1.0000000e+00, 6.5930000e+03, 4.3467649e+07],\n",
       "       [1.0000000e+00, 1.2400000e+02, 1.5376000e+04],\n",
       "       [1.0000000e+00, 8.2630000e+03, 6.8277169e+07],\n",
       "       [1.0000000e+00, 8.9740000e+03, 8.0532676e+07],\n",
       "       [1.0000000e+00, 4.9010000e+03, 2.4019801e+07],\n",
       "       [1.0000000e+00, 5.4300000e+03, 2.9484900e+07],\n",
       "       [1.0000000e+00, 5.9080000e+03, 3.4904464e+07],\n",
       "       [1.0000000e+00, 7.4500000e+03, 5.5502500e+07],\n",
       "       [1.0000000e+00, 1.2730000e+03, 1.6205290e+06],\n",
       "       [1.0000000e+00, 5.0700000e+03, 2.5704900e+07],\n",
       "       [1.0000000e+00, 1.8150000e+03, 3.2942250e+06],\n",
       "       [1.0000000e+00, 5.8220000e+03, 3.3895684e+07],\n",
       "       [1.0000000e+00, 5.1240000e+03, 2.6255376e+07],\n",
       "       [1.0000000e+00, 2.3700000e+03, 5.6169000e+06],\n",
       "       [1.0000000e+00, 8.6610000e+03, 7.5012921e+07],\n",
       "       [1.0000000e+00, 2.1250000e+03, 4.5156250e+06],\n",
       "       [1.0000000e+00, 8.2500000e+03, 6.8062500e+07],\n",
       "       [1.0000000e+00, 7.3270000e+03, 5.3684929e+07],\n",
       "       [1.0000000e+00, 6.4090000e+03, 4.1075281e+07],\n",
       "       [1.0000000e+00, 3.7840000e+03, 1.4318656e+07],\n",
       "       [1.0000000e+00, 4.7670000e+03, 2.2724289e+07],\n",
       "       [1.0000000e+00, 6.7080000e+03, 4.4997264e+07],\n",
       "       [1.0000000e+00, 3.9870000e+03, 1.5896169e+07],\n",
       "       [1.0000000e+00, 3.0150000e+03, 9.0902250e+06],\n",
       "       [1.0000000e+00, 7.2340000e+03, 5.2330756e+07],\n",
       "       [1.0000000e+00, 2.1170000e+03, 4.4816890e+06],\n",
       "       [1.0000000e+00, 1.7100000e+02, 2.9241000e+04],\n",
       "       [1.0000000e+00, 5.9300000e+03, 3.5164900e+07],\n",
       "       [1.0000000e+00, 9.6200000e+02, 9.2544400e+05],\n",
       "       [1.0000000e+00, 8.8670000e+03, 7.8623689e+07],\n",
       "       [1.0000000e+00, 2.7300000e+02, 7.4529000e+04],\n",
       "       [1.0000000e+00, 7.8420000e+03, 6.1496964e+07],\n",
       "       [1.0000000e+00, 4.0630000e+03, 1.6507969e+07],\n",
       "       [1.0000000e+00, 7.6370000e+03, 5.8323769e+07],\n",
       "       [1.0000000e+00, 9.9050000e+03, 9.8109025e+07],\n",
       "       [1.0000000e+00, 2.8470000e+03, 8.1054090e+06],\n",
       "       [1.0000000e+00, 7.2150000e+03, 5.2056225e+07],\n",
       "       [1.0000000e+00, 6.8200000e+02, 4.6512400e+05],\n",
       "       [1.0000000e+00, 4.7500000e+03, 2.2562500e+07],\n",
       "       [1.0000000e+00, 5.5180000e+03, 3.0448324e+07],\n",
       "       [1.0000000e+00, 6.1160000e+03, 3.7405456e+07],\n",
       "       [1.0000000e+00, 1.7050000e+03, 2.9070250e+06],\n",
       "       [1.0000000e+00, 8.6560000e+03, 7.4926336e+07],\n",
       "       [1.0000000e+00, 5.4980000e+03, 3.0228004e+07],\n",
       "       [1.0000000e+00, 7.3420000e+03, 5.3904964e+07],\n",
       "       [1.0000000e+00, 6.7300000e+02, 4.5292900e+05],\n",
       "       [1.0000000e+00, 5.7410000e+03, 3.2959081e+07],\n",
       "       [1.0000000e+00, 8.6560000e+03, 7.4926336e+07],\n",
       "       [1.0000000e+00, 9.8920000e+03, 9.7851664e+07],\n",
       "       [1.0000000e+00, 9.3790000e+03, 8.7965641e+07],\n",
       "       [1.0000000e+00, 3.7320000e+03, 1.3927824e+07],\n",
       "       [1.0000000e+00, 8.6140000e+03, 7.4200996e+07],\n",
       "       [1.0000000e+00, 9.6540000e+03, 9.3199716e+07],\n",
       "       [1.0000000e+00, 4.5130000e+03, 2.0367169e+07],\n",
       "       [1.0000000e+00, 7.8840000e+03, 6.2157456e+07],\n",
       "       [1.0000000e+00, 6.4890000e+03, 4.2107121e+07],\n",
       "       [1.0000000e+00, 4.0850000e+03, 1.6687225e+07],\n",
       "       [1.0000000e+00, 6.4570000e+03, 4.1692849e+07],\n",
       "       [1.0000000e+00, 5.5590000e+03, 3.0902481e+07],\n",
       "       [1.0000000e+00, 4.6600000e+03, 2.1715600e+07],\n",
       "       [1.0000000e+00, 9.4800000e+02, 8.9870400e+05],\n",
       "       [1.0000000e+00, 2.0210000e+03, 4.0844410e+06],\n",
       "       [1.0000000e+00, 7.9100000e+03, 6.2568100e+07],\n",
       "       [1.0000000e+00, 6.2670000e+03, 3.9275289e+07],\n",
       "       [1.0000000e+00, 1.4850000e+03, 2.2052250e+06],\n",
       "       [1.0000000e+00, 5.7670000e+03, 3.3258289e+07],\n",
       "       [1.0000000e+00, 5.3670000e+03, 2.8804689e+07]])"
      ]
     },
     "execution_count": 12,
     "metadata": {},
     "output_type": "execute_result"
    }
   ],
   "source": [
    "from sklearn.preprocessing import PolynomialFeatures\n",
    "from sklearn import linear_model\n",
    "train_x=np.asanyarray(train[['UnitsSold']])\n",
    "train_y=np.asanyarray(train[['TotalProfit']])\n",
    "\n",
    "test_x=np.asanyarray(test[['UnitsSold']])\n",
    "test_y=np.asanyarray(test[['TotalProfit']])\n",
    "\n",
    "poly=PolynomialFeatures(degree=2)\n",
    "train_x_poly=poly.fit_transform(train_x)\n",
    "train_x_poly"
   ]
  },
  {
   "cell_type": "code",
   "execution_count": 15,
   "metadata": {},
   "outputs": [
    {
     "name": "stdout",
     "output_type": "stream",
     "text": [
      "coefficients= [[ 0.00000000e+00 -1.37360987e+01  1.17294115e-02]]\n",
      "intercept= [127467.68120747]\n"
     ]
    }
   ],
   "source": [
    "reg=linear_model.LinearRegression()\n",
    "train_y=reg.fit(train_x_poly,train_y)\n",
    "print(\"coefficients=\",reg.coef_)\n",
    "print('intercept=',reg.intercept_)"
   ]
  },
  {
   "cell_type": "code",
   "execution_count": 16,
   "metadata": {
    "scrolled": true
   },
   "outputs": [
    {
     "data": {
      "image/png": "[encoded data removed]",
      "text/plain": [
       "<Figure size 432x288 with 1 Axes>"
      ]
     },
     "metadata": {
      "needs_background": "light"
     },
     "output_type": "display_data"
    }
   ],
   "source": [
    "plt.scatter(train.UnitsSold,train.TotalProfit)\n",
    "plt.xlabel(\"UnitsSold\")\n",
    "plt.ylabel(\"TotalProfit\")\n",
    "plt.show()"
   ]
  },
  {
   "cell_type": "code",
   "execution_count": 27,
   "metadata": {},
   "outputs": [
    {
     "data": {
      "text/plain": [
       "Text(0, 0.5, 'TotalProfit')"
      ]
     },
     "execution_count": 27,
     "metadata": {},
     "output_type": "execute_result"
    },
    {
     "data": {
      "image/png": "[encoded data removed]",
      "text/plain": [
       "<Figure size 432x288 with 1 Axes>"
      ]
     },
     "metadata": {
      "needs_background": "light"
     },
     "output_type": "display_data"
    }
   ],
   "source": [
    "plt.scatter(train.UnitsSold,train.TotalProfit)\n",
    "#xx=np.arange(0.0,10.0,0.1)\n",
    "yy=reg.intercept_[0]+reg.coef_[0][1]*xx+reg.coef_[0][2]*np.power(xx,2)\n",
    "plt.plot(xx,yy,'-r')\n",
    "plt.xlabel(\"UnitsSold\")\n",
    "plt.ylabel(\"TotalProfit\")"
   ]
  },
  {
   "cell_type": "code",
   "execution_count": 28,
   "metadata": {},
   "outputs": [
    {
     "name": "stdout",
     "output_type": "stream",
     "text": [
      "Mean absolute error: 308929.75\n",
      "Residual sum of squares (MSE): 182294180833.83\n",
      "R2-score: -0.97\n"
     ]
    }
   ],
   "source": [
    "from sklearn.metrics import r2_score\n",
    "\n",
    "test_x_poly=poly.fit_transform(test_x)\n",
    "test_y_=reg.predict(test_x_poly)\n",
    "\n",
    "print(\"Mean absolute error: %.2f\" % np.mean(np.absolute(test_y_ - test_y)))\n",
    "print(\"Residual sum of squares (MSE): %.2f\" % np.mean((test_y_ - test_y) ** 2))\n",
    "print(\"R2-score: %.2f\" % r2_score(test_y_ , test_y) )"
   ]
  },
  {
   "cell_type": "code",
   "execution_count": null,
   "metadata": {},
   "outputs": [],
   "source": []
  }
 ],
 "metadata": {
  "kernelspec": {
   "display_name": "Python 3",
   "language": "python",
   "name": "python3"
  },
  "language_info": {
   "codemirror_mode": {
    "name": "ipython",
    "version": 3
   },
   "file_extension": ".py",
   "mimetype": "text/x-python",
   "name": "python",
   "nbconvert_exporter": "python",
   "pygments_lexer": "ipython3",
   "version": "3.7.3"
  }
 },
 "nbformat": 4,
 "nbformat_minor": 2
}
